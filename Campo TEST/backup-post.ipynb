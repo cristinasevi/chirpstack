{
 "cells": [
  {
   "cell_type": "code",
   "execution_count": null,
   "metadata": {},
   "outputs": [],
   "source": [
    "import pandas as pd\n",
    "xlsx_file = \"backup.xlsx\"\n",
    "start_row = 619\n",
    "end_row = 2216\n",
    "data = pd.read_excel(xlsx_file)\n",
    "data = data.astype(str)  # Convertir todas las columnas a cadenas\n",
    "for row_index, row in data.iterrows():\n",
    "    if start_row <= row_index + 1 <= end_row:\n",
    "        if len(row) >=9:\n",
    "            dev_eui = row.iloc[2][3:19]  # Obtener los EUI de la tercera columna del cuarto al decimonoveno caracter\n",
    "            activation_data = {\n",
    "                \"dev_eui\": dev_eui,\n",
    "                \"deviceActivation\": {\n",
    "                    \"aFCntDown\": 0,  \n",
    "                    \"appSKey\": 0,\n",
    "                    \"devAddr\": row.iloc[4][3:11],\n",
    "                    \"fCntUp\": 138, \n",
    "                    \"fNwkSIntKey\": row.iloc[5][3:35],\n",
    "                    \"nFCntDown\": 0,  \n",
    "                    \"nwkSEncKey\": row.iloc[7][3:35],\n",
    "                    \"sNwkSIntKey\": row.iloc[6][3:35]\n",
    "                }\n",
    "            }\n",
    "        print(activation_data)"
   ]
  }
 ],
 "metadata": {
  "kernelspec": {
   "display_name": "Python 3",
   "language": "python",
   "name": "python3"
  },
  "language_info": {
   "codemirror_mode": {
    "name": "ipython",
    "version": 3
   },
   "file_extension": ".py",
   "mimetype": "text/x-python",
   "name": "python",
   "nbconvert_exporter": "python",
   "pygments_lexer": "ipython3",
   "version": "undefined.undefined.undefined"
  }
 },
 "nbformat": 4,
 "nbformat_minor": 2
}
