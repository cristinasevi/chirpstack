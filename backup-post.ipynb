{
 "cells": [
  {
   "cell_type": "code",
   "execution_count": 1,
   "metadata": {},
   "outputs": [
    {
     "name": "stdout",
     "output_type": "stream",
     "text": [
      "{'deviceActivation': {'aFCntDown': 0, 'appSKey': 0, 'devAddr': '00be0f45', 'fCntUp': 138, 'fNwkSIntKey': '841447ce574e641a168f92f332ca1685', 'nFCntDown': 0, 'nwkSEncKey': '841447ce574e641a168f92f332ca1685', 'sNwkSIntKey': '841447ce574e641a168f92f332ca1685'}}\n"
     ]
    },
    {
     "name": "stderr",
     "output_type": "stream",
     "text": [
      "C:\\Users\\cristina.serrano\\AppData\\Local\\Temp\\ipykernel_8560\\673868290.py:10: FutureWarning: Series.__getitem__ treating keys as positions is deprecated. In a future version, integer keys will always be treated as labels (consistent with DataFrame behavior). To access a value by position, use `ser.iloc[pos]`\n",
      "  dev_eui = row[2][3:19]  # Obtener los EUI de la tercera columna del cuarto al decimonoveno caracter\n",
      "C:\\Users\\cristina.serrano\\AppData\\Local\\Temp\\ipykernel_8560\\673868290.py:15: FutureWarning: Series.__getitem__ treating keys as positions is deprecated. In a future version, integer keys will always be treated as labels (consistent with DataFrame behavior). To access a value by position, use `ser.iloc[pos]`\n",
      "  \"devAddr\": row[4][3:11],\n",
      "C:\\Users\\cristina.serrano\\AppData\\Local\\Temp\\ipykernel_8560\\673868290.py:17: FutureWarning: Series.__getitem__ treating keys as positions is deprecated. In a future version, integer keys will always be treated as labels (consistent with DataFrame behavior). To access a value by position, use `ser.iloc[pos]`\n",
      "  \"fNwkSIntKey\": row[5][3:35],\n",
      "C:\\Users\\cristina.serrano\\AppData\\Local\\Temp\\ipykernel_8560\\673868290.py:19: FutureWarning: Series.__getitem__ treating keys as positions is deprecated. In a future version, integer keys will always be treated as labels (consistent with DataFrame behavior). To access a value by position, use `ser.iloc[pos]`\n",
      "  \"nwkSEncKey\": row[7][3:35],\n",
      "C:\\Users\\cristina.serrano\\AppData\\Local\\Temp\\ipykernel_8560\\673868290.py:20: FutureWarning: Series.__getitem__ treating keys as positions is deprecated. In a future version, integer keys will always be treated as labels (consistent with DataFrame behavior). To access a value by position, use `ser.iloc[pos]`\n",
      "  \"sNwkSIntKey\": row[6][3:35]\n"
     ]
    }
   ],
   "source": [
    "import pandas as pd\n",
    "xlsx_file = \"backup.xlsx\"\n",
    "start_row = 619\n",
    "end_row = 2216\n",
    "data = pd.read_excel(xlsx_file)\n",
    "data = data.astype(str)  # Convertir todas las columnas a cadenas\n",
    "for row_index, row in data.iterrows():\n",
    "    if start_row <= row_index + 1 <= end_row:\n",
    "        if len(row) >=9:\n",
    "            dev_eui = row[2][3:19]  # Obtener los EUI de la tercera columna del cuarto al decimonoveno caracter\n",
    "            activation_data = {\n",
    "                \"deviceActivation\": {\n",
    "                    \"aFCntDown\": 0,  \n",
    "                    \"appSKey\": 0,\n",
    "                    \"devAddr\": row[4][3:11],\n",
    "                    \"fCntUp\": 138, \n",
    "                    \"fNwkSIntKey\": row[5][3:35],\n",
    "                    \"nFCntDown\": 0,  \n",
    "                    \"nwkSEncKey\": row[7][3:35],\n",
    "                    \"sNwkSIntKey\": row[6][3:35]\n",
    "                }\n",
    "            }\n",
    "print(activation_data)"
   ]
  }
 ],
 "metadata": {
  "kernelspec": {
   "display_name": "Python 3",
   "language": "python",
   "name": "python3"
  },
  "language_info": {
   "codemirror_mode": {
    "name": "ipython",
    "version": 3
   },
   "file_extension": ".py",
   "mimetype": "text/x-python",
   "name": "python",
   "nbconvert_exporter": "python",
   "pygments_lexer": "ipython3",
   "version": "3.12.3"
  }
 },
 "nbformat": 4,
 "nbformat_minor": 2
}
