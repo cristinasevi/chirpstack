{
 "cells": [
  {
   "cell_type": "code",
   "execution_count": 4,
   "metadata": {},
   "outputs": [],
   "source": [
    "import pandas as pd\n",
    "import base64\n",
    "\n",
    "def calculate_app_key(eui):\n",
    "    return \"6c6f72616368656b\" + str(eui)\n",
    "\n",
    "def calculate_config_message(app_key):\n",
    "    return \"16013c00806c6f72616368656b\" + app_key\n",
    "\n",
    "# Leer el archivo Excel\n",
    "df = pd.read_excel(\"206677_Camposcala_pruebas.xlsx\")\n",
    "\n",
    "# Calcular la App Key y el mensaje de configuración, y escribir los resultados en el DataFrame\n",
    "df['App Key'] = df['EUI'].apply(lambda x: calculate_app_key(x))\n",
    "df['Mensaje Config Hex'] = df['App Key'].apply(lambda x: calculate_config_message(x))\n",
    "df['Mensaje 1'] = \"FgYB\"\n",
    "\n",
    "# Modificación para verificar si la cadena es hexadecimal antes de la conversión\n",
    "def encode_base64(x):\n",
    "    try:\n",
    "        return base64.b64encode(bytes.fromhex(x)).decode()\n",
    "    except ValueError:\n",
    "        return None\n",
    "\n",
    "df['Mensaje 2'] = df['Mensaje Config Hex'].apply(encode_base64)\n",
    "\n",
    "# Escribir los resultados en el archivo Excel\n",
    "with pd.ExcelWriter(\"206677_Camposcala_pruebas.xlsx\") as writer:\n",
    "    df.to_excel(writer, index=False)"
   ]
  }
 ],
 "metadata": {
  "kernelspec": {
   "display_name": "Python 3",
   "language": "python",
   "name": "python3"
  },
  "language_info": {
   "codemirror_mode": {
    "name": "ipython",
    "version": 3
   },
   "file_extension": ".py",
   "mimetype": "text/x-python",
   "name": "python",
   "nbconvert_exporter": "python",
   "pygments_lexer": "ipython3",
   "version": "3.12.3"
  }
 },
 "nbformat": 4,
 "nbformat_minor": 2
}
